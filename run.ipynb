{
 "cells": [
  {
   "cell_type": "code",
   "execution_count": 1,
   "metadata": {},
   "outputs": [],
   "source": [
    "# This Python 3 environment comes with many helpful analytics libraries installed\n",
    "# It is defined by the kaggle/python Docker image: https://github.com/kaggle/docker-python\n",
    "# For example, here's several helpful packages to load\n",
    "\n",
    "import numpy as np # linear algebra\n",
    "import pandas as pd # data processing, CSV file I/O (e.g. pd.read_csv)"
   ]
  },
  {
   "cell_type": "code",
   "execution_count": 2,
   "metadata": {},
   "outputs": [],
   "source": [
    "df = pd.read_csv('Churn_Modelling.csv')"
   ]
  },
  {
   "cell_type": "code",
   "execution_count": 3,
   "metadata": {},
   "outputs": [
    {
     "data": {
      "text/html": [
       "<div>\n",
       "<style scoped>\n",
       "    .dataframe tbody tr th:only-of-type {\n",
       "        vertical-align: middle;\n",
       "    }\n",
       "\n",
       "    .dataframe tbody tr th {\n",
       "        vertical-align: top;\n",
       "    }\n",
       "\n",
       "    .dataframe thead th {\n",
       "        text-align: right;\n",
       "    }\n",
       "</style>\n",
       "<table border=\"1\" class=\"dataframe\">\n",
       "  <thead>\n",
       "    <tr style=\"text-align: right;\">\n",
       "      <th></th>\n",
       "      <th>RowNumber</th>\n",
       "      <th>CustomerId</th>\n",
       "      <th>Surname</th>\n",
       "      <th>CreditScore</th>\n",
       "      <th>Geography</th>\n",
       "      <th>Gender</th>\n",
       "      <th>Age</th>\n",
       "      <th>Tenure</th>\n",
       "      <th>Balance</th>\n",
       "      <th>NumOfProducts</th>\n",
       "      <th>HasCrCard</th>\n",
       "      <th>IsActiveMember</th>\n",
       "      <th>EstimatedSalary</th>\n",
       "      <th>Exited</th>\n",
       "    </tr>\n",
       "  </thead>\n",
       "  <tbody>\n",
       "    <tr>\n",
       "      <th>0</th>\n",
       "      <td>1</td>\n",
       "      <td>15634602</td>\n",
       "      <td>Hargrave</td>\n",
       "      <td>619</td>\n",
       "      <td>France</td>\n",
       "      <td>Female</td>\n",
       "      <td>42</td>\n",
       "      <td>2</td>\n",
       "      <td>0.00</td>\n",
       "      <td>1</td>\n",
       "      <td>1</td>\n",
       "      <td>1</td>\n",
       "      <td>101348.88</td>\n",
       "      <td>1</td>\n",
       "    </tr>\n",
       "    <tr>\n",
       "      <th>1</th>\n",
       "      <td>2</td>\n",
       "      <td>15647311</td>\n",
       "      <td>Hill</td>\n",
       "      <td>608</td>\n",
       "      <td>Spain</td>\n",
       "      <td>Female</td>\n",
       "      <td>41</td>\n",
       "      <td>1</td>\n",
       "      <td>83807.86</td>\n",
       "      <td>1</td>\n",
       "      <td>0</td>\n",
       "      <td>1</td>\n",
       "      <td>112542.58</td>\n",
       "      <td>0</td>\n",
       "    </tr>\n",
       "    <tr>\n",
       "      <th>2</th>\n",
       "      <td>3</td>\n",
       "      <td>15619304</td>\n",
       "      <td>Onio</td>\n",
       "      <td>502</td>\n",
       "      <td>France</td>\n",
       "      <td>Female</td>\n",
       "      <td>42</td>\n",
       "      <td>8</td>\n",
       "      <td>159660.80</td>\n",
       "      <td>3</td>\n",
       "      <td>1</td>\n",
       "      <td>0</td>\n",
       "      <td>113931.57</td>\n",
       "      <td>1</td>\n",
       "    </tr>\n",
       "    <tr>\n",
       "      <th>3</th>\n",
       "      <td>4</td>\n",
       "      <td>15701354</td>\n",
       "      <td>Boni</td>\n",
       "      <td>699</td>\n",
       "      <td>France</td>\n",
       "      <td>Female</td>\n",
       "      <td>39</td>\n",
       "      <td>1</td>\n",
       "      <td>0.00</td>\n",
       "      <td>2</td>\n",
       "      <td>0</td>\n",
       "      <td>0</td>\n",
       "      <td>93826.63</td>\n",
       "      <td>0</td>\n",
       "    </tr>\n",
       "    <tr>\n",
       "      <th>4</th>\n",
       "      <td>5</td>\n",
       "      <td>15737888</td>\n",
       "      <td>Mitchell</td>\n",
       "      <td>850</td>\n",
       "      <td>Spain</td>\n",
       "      <td>Female</td>\n",
       "      <td>43</td>\n",
       "      <td>2</td>\n",
       "      <td>125510.82</td>\n",
       "      <td>1</td>\n",
       "      <td>1</td>\n",
       "      <td>1</td>\n",
       "      <td>79084.10</td>\n",
       "      <td>0</td>\n",
       "    </tr>\n",
       "  </tbody>\n",
       "</table>\n",
       "</div>"
      ],
      "text/plain": [
       "   RowNumber  CustomerId   Surname  CreditScore Geography  Gender  Age  \\\n",
       "0          1    15634602  Hargrave          619    France  Female   42   \n",
       "1          2    15647311      Hill          608     Spain  Female   41   \n",
       "2          3    15619304      Onio          502    France  Female   42   \n",
       "3          4    15701354      Boni          699    France  Female   39   \n",
       "4          5    15737888  Mitchell          850     Spain  Female   43   \n",
       "\n",
       "   Tenure    Balance  NumOfProducts  HasCrCard  IsActiveMember  \\\n",
       "0       2       0.00              1          1               1   \n",
       "1       1   83807.86              1          0               1   \n",
       "2       8  159660.80              3          1               0   \n",
       "3       1       0.00              2          0               0   \n",
       "4       2  125510.82              1          1               1   \n",
       "\n",
       "   EstimatedSalary  Exited  \n",
       "0        101348.88       1  \n",
       "1        112542.58       0  \n",
       "2        113931.57       1  \n",
       "3         93826.63       0  \n",
       "4         79084.10       0  "
      ]
     },
     "execution_count": 3,
     "metadata": {},
     "output_type": "execute_result"
    }
   ],
   "source": [
    "df.head()"
   ]
  },
  {
   "cell_type": "code",
   "execution_count": 4,
   "metadata": {},
   "outputs": [
    {
     "data": {
      "text/plain": [
       "(10000, 14)"
      ]
     },
     "execution_count": 4,
     "metadata": {},
     "output_type": "execute_result"
    }
   ],
   "source": [
    "df.shape"
   ]
  },
  {
   "cell_type": "code",
   "execution_count": 5,
   "metadata": {},
   "outputs": [
    {
     "name": "stdout",
     "output_type": "stream",
     "text": [
      "<class 'pandas.core.frame.DataFrame'>\n",
      "RangeIndex: 10000 entries, 0 to 9999\n",
      "Data columns (total 14 columns):\n",
      " #   Column           Non-Null Count  Dtype  \n",
      "---  ------           --------------  -----  \n",
      " 0   RowNumber        10000 non-null  int64  \n",
      " 1   CustomerId       10000 non-null  int64  \n",
      " 2   Surname          10000 non-null  object \n",
      " 3   CreditScore      10000 non-null  int64  \n",
      " 4   Geography        10000 non-null  object \n",
      " 5   Gender           10000 non-null  object \n",
      " 6   Age              10000 non-null  int64  \n",
      " 7   Tenure           10000 non-null  int64  \n",
      " 8   Balance          10000 non-null  float64\n",
      " 9   NumOfProducts    10000 non-null  int64  \n",
      " 10  HasCrCard        10000 non-null  int64  \n",
      " 11  IsActiveMember   10000 non-null  int64  \n",
      " 12  EstimatedSalary  10000 non-null  float64\n",
      " 13  Exited           10000 non-null  int64  \n",
      "dtypes: float64(2), int64(9), object(3)\n",
      "memory usage: 1.1+ MB\n"
     ]
    }
   ],
   "source": [
    "df.info()"
   ]
  },
  {
   "cell_type": "code",
   "execution_count": 6,
   "metadata": {},
   "outputs": [
    {
     "data": {
      "text/plain": [
       "np.int64(0)"
      ]
     },
     "execution_count": 6,
     "metadata": {},
     "output_type": "execute_result"
    }
   ],
   "source": [
    "df.duplicated().sum()"
   ]
  },
  {
   "cell_type": "code",
   "execution_count": 7,
   "metadata": {},
   "outputs": [
    {
     "data": {
      "text/plain": [
       "Exited\n",
       "0    7963\n",
       "1    2037\n",
       "Name: count, dtype: int64"
      ]
     },
     "execution_count": 7,
     "metadata": {},
     "output_type": "execute_result"
    }
   ],
   "source": [
    "df['Exited'].value_counts()\n",
    "# imbalanced classification"
   ]
  },
  {
   "cell_type": "code",
   "execution_count": 8,
   "metadata": {},
   "outputs": [
    {
     "data": {
      "text/plain": [
       "Geography\n",
       "France     5014\n",
       "Germany    2509\n",
       "Spain      2477\n",
       "Name: count, dtype: int64"
      ]
     },
     "execution_count": 8,
     "metadata": {},
     "output_type": "execute_result"
    }
   ],
   "source": [
    "df['Geography'].value_counts()"
   ]
  },
  {
   "cell_type": "code",
   "execution_count": 9,
   "metadata": {},
   "outputs": [
    {
     "data": {
      "text/plain": [
       "Gender\n",
       "Male      5457\n",
       "Female    4543\n",
       "Name: count, dtype: int64"
      ]
     },
     "execution_count": 9,
     "metadata": {},
     "output_type": "execute_result"
    }
   ],
   "source": [
    "df['Gender'].value_counts()"
   ]
  },
  {
   "cell_type": "code",
   "execution_count": 10,
   "metadata": {},
   "outputs": [],
   "source": [
    "df.drop(columns=['RowNumber', 'CustomerId', 'Surname'], inplace=True)"
   ]
  },
  {
   "cell_type": "code",
   "execution_count": 11,
   "metadata": {},
   "outputs": [
    {
     "data": {
      "text/html": [
       "<div>\n",
       "<style scoped>\n",
       "    .dataframe tbody tr th:only-of-type {\n",
       "        vertical-align: middle;\n",
       "    }\n",
       "\n",
       "    .dataframe tbody tr th {\n",
       "        vertical-align: top;\n",
       "    }\n",
       "\n",
       "    .dataframe thead th {\n",
       "        text-align: right;\n",
       "    }\n",
       "</style>\n",
       "<table border=\"1\" class=\"dataframe\">\n",
       "  <thead>\n",
       "    <tr style=\"text-align: right;\">\n",
       "      <th></th>\n",
       "      <th>CreditScore</th>\n",
       "      <th>Geography</th>\n",
       "      <th>Gender</th>\n",
       "      <th>Age</th>\n",
       "      <th>Tenure</th>\n",
       "      <th>Balance</th>\n",
       "      <th>NumOfProducts</th>\n",
       "      <th>HasCrCard</th>\n",
       "      <th>IsActiveMember</th>\n",
       "      <th>EstimatedSalary</th>\n",
       "      <th>Exited</th>\n",
       "    </tr>\n",
       "  </thead>\n",
       "  <tbody>\n",
       "    <tr>\n",
       "      <th>0</th>\n",
       "      <td>619</td>\n",
       "      <td>France</td>\n",
       "      <td>Female</td>\n",
       "      <td>42</td>\n",
       "      <td>2</td>\n",
       "      <td>0.00</td>\n",
       "      <td>1</td>\n",
       "      <td>1</td>\n",
       "      <td>1</td>\n",
       "      <td>101348.88</td>\n",
       "      <td>1</td>\n",
       "    </tr>\n",
       "    <tr>\n",
       "      <th>1</th>\n",
       "      <td>608</td>\n",
       "      <td>Spain</td>\n",
       "      <td>Female</td>\n",
       "      <td>41</td>\n",
       "      <td>1</td>\n",
       "      <td>83807.86</td>\n",
       "      <td>1</td>\n",
       "      <td>0</td>\n",
       "      <td>1</td>\n",
       "      <td>112542.58</td>\n",
       "      <td>0</td>\n",
       "    </tr>\n",
       "    <tr>\n",
       "      <th>2</th>\n",
       "      <td>502</td>\n",
       "      <td>France</td>\n",
       "      <td>Female</td>\n",
       "      <td>42</td>\n",
       "      <td>8</td>\n",
       "      <td>159660.80</td>\n",
       "      <td>3</td>\n",
       "      <td>1</td>\n",
       "      <td>0</td>\n",
       "      <td>113931.57</td>\n",
       "      <td>1</td>\n",
       "    </tr>\n",
       "    <tr>\n",
       "      <th>3</th>\n",
       "      <td>699</td>\n",
       "      <td>France</td>\n",
       "      <td>Female</td>\n",
       "      <td>39</td>\n",
       "      <td>1</td>\n",
       "      <td>0.00</td>\n",
       "      <td>2</td>\n",
       "      <td>0</td>\n",
       "      <td>0</td>\n",
       "      <td>93826.63</td>\n",
       "      <td>0</td>\n",
       "    </tr>\n",
       "    <tr>\n",
       "      <th>4</th>\n",
       "      <td>850</td>\n",
       "      <td>Spain</td>\n",
       "      <td>Female</td>\n",
       "      <td>43</td>\n",
       "      <td>2</td>\n",
       "      <td>125510.82</td>\n",
       "      <td>1</td>\n",
       "      <td>1</td>\n",
       "      <td>1</td>\n",
       "      <td>79084.10</td>\n",
       "      <td>0</td>\n",
       "    </tr>\n",
       "  </tbody>\n",
       "</table>\n",
       "</div>"
      ],
      "text/plain": [
       "   CreditScore Geography  Gender  Age  Tenure    Balance  NumOfProducts  \\\n",
       "0          619    France  Female   42       2       0.00              1   \n",
       "1          608     Spain  Female   41       1   83807.86              1   \n",
       "2          502    France  Female   42       8  159660.80              3   \n",
       "3          699    France  Female   39       1       0.00              2   \n",
       "4          850     Spain  Female   43       2  125510.82              1   \n",
       "\n",
       "   HasCrCard  IsActiveMember  EstimatedSalary  Exited  \n",
       "0          1               1        101348.88       1  \n",
       "1          0               1        112542.58       0  \n",
       "2          1               0        113931.57       1  \n",
       "3          0               0         93826.63       0  \n",
       "4          1               1         79084.10       0  "
      ]
     },
     "execution_count": 11,
     "metadata": {},
     "output_type": "execute_result"
    }
   ],
   "source": [
    "df.head()"
   ]
  },
  {
   "cell_type": "code",
   "execution_count": 12,
   "metadata": {},
   "outputs": [],
   "source": [
    "import pandas as pd\n",
    "df = pd.get_dummies(df,columns=['Geography', 'Gender'], drop_first=True)"
   ]
  },
  {
   "cell_type": "code",
   "execution_count": 13,
   "metadata": {},
   "outputs": [],
   "source": [
    "X = df.drop(columns=['Exited'])\n",
    "y = df['Exited'].values\n",
    "\n",
    "from sklearn.model_selection import train_test_split\n",
    "X_train,X_test,y_train,y_test = train_test_split(X,y,test_size=0.2,random_state=0)"
   ]
  },
  {
   "cell_type": "code",
   "execution_count": 14,
   "metadata": {},
   "outputs": [],
   "source": [
    "from sklearn.preprocessing import StandardScaler\n",
    "scaler = StandardScaler()\n",
    "\n",
    "X_train_trf = scaler.fit_transform(X_train)\n",
    "X_test_trf = scaler.transform(X_test)"
   ]
  },
  {
   "cell_type": "code",
   "execution_count": 15,
   "metadata": {},
   "outputs": [
    {
     "data": {
      "text/plain": [
       "'2.18.0'"
      ]
     },
     "execution_count": 15,
     "metadata": {},
     "output_type": "execute_result"
    }
   ],
   "source": [
    "import tensorflow as tf \n",
    "tf.__version__"
   ]
  },
  {
   "cell_type": "code",
   "execution_count": 28,
   "metadata": {},
   "outputs": [
    {
     "name": "stdout",
     "output_type": "stream",
     "text": [
      "Tue Dec 31 18:35:01 2024       \n",
      "+-----------------------------------------------------------------------------------------+\n",
      "| NVIDIA-SMI 561.03                 Driver Version: 561.03         CUDA Version: 12.6     |\n",
      "|-----------------------------------------+------------------------+----------------------+\n",
      "| GPU  Name                  Driver-Model | Bus-Id          Disp.A | Volatile Uncorr. ECC |\n",
      "| Fan  Temp   Perf          Pwr:Usage/Cap |           Memory-Usage | GPU-Util  Compute M. |\n",
      "|                                         |                        |               MIG M. |\n",
      "|=========================================+========================+======================|\n",
      "|   0  NVIDIA GeForce RTX 3050 ...  WDDM  |   00000000:01:00.0  On |                  N/A |\n",
      "| N/A   40C    P5              4W /   60W |     371MiB /   6144MiB |      2%      Default |\n",
      "|                                         |                        |                  N/A |\n",
      "+-----------------------------------------+------------------------+----------------------+\n",
      "                                                                                         \n",
      "+-----------------------------------------------------------------------------------------+\n",
      "| Processes:                                                                              |\n",
      "|  GPU   GI   CI        PID   Type   Process name                              GPU Memory |\n",
      "|        ID   ID                                                               Usage      |\n",
      "|=========================================================================================|\n",
      "|    0   N/A  N/A     13584    C+G   C:\\Windows\\explorer.exe                     N/A      |\n",
      "+-----------------------------------------------------------------------------------------+\n"
     ]
    }
   ],
   "source": [
    "!nvidia-smi"
   ]
  },
  {
   "cell_type": "code",
   "execution_count": 16,
   "metadata": {},
   "outputs": [],
   "source": [
    "from tensorflow import keras\n",
    "from tensorflow.keras import Sequential\n",
    "from tensorflow.keras.layers import Dense\n"
   ]
  },
  {
   "cell_type": "code",
   "execution_count": 43,
   "metadata": {},
   "outputs": [
    {
     "name": "stderr",
     "output_type": "stream",
     "text": [
      "d:\\DL\\100-days-DL_CampusX\\.venv\\Lib\\site-packages\\keras\\src\\layers\\core\\dense.py:87: UserWarning: Do not pass an `input_shape`/`input_dim` argument to a layer. When using Sequential models, prefer using an `Input(shape)` object as the first layer in the model instead.\n",
      "  super().__init__(activity_regularizer=activity_regularizer, **kwargs)\n"
     ]
    }
   ],
   "source": [
    "model = Sequential()\n",
    "\n",
    "model.add(Dense(11,activation='relu', input_dim=11))\n",
    "model.add(Dense(11,activation='relu', input_dim=11))\n",
    "model.add(Dense(1,activation='sigmoid'))"
   ]
  },
  {
   "cell_type": "code",
   "execution_count": 44,
   "metadata": {},
   "outputs": [
    {
     "data": {
      "text/html": [
       "<pre style=\"white-space:pre;overflow-x:auto;line-height:normal;font-family:Menlo,'DejaVu Sans Mono',consolas,'Courier New',monospace\"><span style=\"font-weight: bold\">Model: \"sequential_2\"</span>\n",
       "</pre>\n"
      ],
      "text/plain": [
       "\u001b[1mModel: \"sequential_2\"\u001b[0m\n"
      ]
     },
     "metadata": {},
     "output_type": "display_data"
    },
    {
     "data": {
      "text/html": [
       "<pre style=\"white-space:pre;overflow-x:auto;line-height:normal;font-family:Menlo,'DejaVu Sans Mono',consolas,'Courier New',monospace\">┏━━━━━━━━━━━━━━━━━━━━━━━━━━━━━━━━━┳━━━━━━━━━━━━━━━━━━━━━━━━┳━━━━━━━━━━━━━━━┓\n",
       "┃<span style=\"font-weight: bold\"> Layer (type)                    </span>┃<span style=\"font-weight: bold\"> Output Shape           </span>┃<span style=\"font-weight: bold\">       Param # </span>┃\n",
       "┡━━━━━━━━━━━━━━━━━━━━━━━━━━━━━━━━━╇━━━━━━━━━━━━━━━━━━━━━━━━╇━━━━━━━━━━━━━━━┩\n",
       "│ dense_5 (<span style=\"color: #0087ff; text-decoration-color: #0087ff\">Dense</span>)                 │ (<span style=\"color: #00d7ff; text-decoration-color: #00d7ff\">None</span>, <span style=\"color: #00af00; text-decoration-color: #00af00\">11</span>)             │           <span style=\"color: #00af00; text-decoration-color: #00af00\">132</span> │\n",
       "├─────────────────────────────────┼────────────────────────┼───────────────┤\n",
       "│ dense_6 (<span style=\"color: #0087ff; text-decoration-color: #0087ff\">Dense</span>)                 │ (<span style=\"color: #00d7ff; text-decoration-color: #00d7ff\">None</span>, <span style=\"color: #00af00; text-decoration-color: #00af00\">11</span>)             │           <span style=\"color: #00af00; text-decoration-color: #00af00\">132</span> │\n",
       "├─────────────────────────────────┼────────────────────────┼───────────────┤\n",
       "│ dense_7 (<span style=\"color: #0087ff; text-decoration-color: #0087ff\">Dense</span>)                 │ (<span style=\"color: #00d7ff; text-decoration-color: #00d7ff\">None</span>, <span style=\"color: #00af00; text-decoration-color: #00af00\">1</span>)              │            <span style=\"color: #00af00; text-decoration-color: #00af00\">12</span> │\n",
       "└─────────────────────────────────┴────────────────────────┴───────────────┘\n",
       "</pre>\n"
      ],
      "text/plain": [
       "┏━━━━━━━━━━━━━━━━━━━━━━━━━━━━━━━━━┳━━━━━━━━━━━━━━━━━━━━━━━━┳━━━━━━━━━━━━━━━┓\n",
       "┃\u001b[1m \u001b[0m\u001b[1mLayer (type)                   \u001b[0m\u001b[1m \u001b[0m┃\u001b[1m \u001b[0m\u001b[1mOutput Shape          \u001b[0m\u001b[1m \u001b[0m┃\u001b[1m \u001b[0m\u001b[1m      Param #\u001b[0m\u001b[1m \u001b[0m┃\n",
       "┡━━━━━━━━━━━━━━━━━━━━━━━━━━━━━━━━━╇━━━━━━━━━━━━━━━━━━━━━━━━╇━━━━━━━━━━━━━━━┩\n",
       "│ dense_5 (\u001b[38;5;33mDense\u001b[0m)                 │ (\u001b[38;5;45mNone\u001b[0m, \u001b[38;5;34m11\u001b[0m)             │           \u001b[38;5;34m132\u001b[0m │\n",
       "├─────────────────────────────────┼────────────────────────┼───────────────┤\n",
       "│ dense_6 (\u001b[38;5;33mDense\u001b[0m)                 │ (\u001b[38;5;45mNone\u001b[0m, \u001b[38;5;34m11\u001b[0m)             │           \u001b[38;5;34m132\u001b[0m │\n",
       "├─────────────────────────────────┼────────────────────────┼───────────────┤\n",
       "│ dense_7 (\u001b[38;5;33mDense\u001b[0m)                 │ (\u001b[38;5;45mNone\u001b[0m, \u001b[38;5;34m1\u001b[0m)              │            \u001b[38;5;34m12\u001b[0m │\n",
       "└─────────────────────────────────┴────────────────────────┴───────────────┘\n"
      ]
     },
     "metadata": {},
     "output_type": "display_data"
    },
    {
     "data": {
      "text/html": [
       "<pre style=\"white-space:pre;overflow-x:auto;line-height:normal;font-family:Menlo,'DejaVu Sans Mono',consolas,'Courier New',monospace\"><span style=\"font-weight: bold\"> Total params: </span><span style=\"color: #00af00; text-decoration-color: #00af00\">276</span> (1.08 KB)\n",
       "</pre>\n"
      ],
      "text/plain": [
       "\u001b[1m Total params: \u001b[0m\u001b[38;5;34m276\u001b[0m (1.08 KB)\n"
      ]
     },
     "metadata": {},
     "output_type": "display_data"
    },
    {
     "data": {
      "text/html": [
       "<pre style=\"white-space:pre;overflow-x:auto;line-height:normal;font-family:Menlo,'DejaVu Sans Mono',consolas,'Courier New',monospace\"><span style=\"font-weight: bold\"> Trainable params: </span><span style=\"color: #00af00; text-decoration-color: #00af00\">276</span> (1.08 KB)\n",
       "</pre>\n"
      ],
      "text/plain": [
       "\u001b[1m Trainable params: \u001b[0m\u001b[38;5;34m276\u001b[0m (1.08 KB)\n"
      ]
     },
     "metadata": {},
     "output_type": "display_data"
    },
    {
     "data": {
      "text/html": [
       "<pre style=\"white-space:pre;overflow-x:auto;line-height:normal;font-family:Menlo,'DejaVu Sans Mono',consolas,'Courier New',monospace\"><span style=\"font-weight: bold\"> Non-trainable params: </span><span style=\"color: #00af00; text-decoration-color: #00af00\">0</span> (0.00 B)\n",
       "</pre>\n"
      ],
      "text/plain": [
       "\u001b[1m Non-trainable params: \u001b[0m\u001b[38;5;34m0\u001b[0m (0.00 B)\n"
      ]
     },
     "metadata": {},
     "output_type": "display_data"
    }
   ],
   "source": [
    "model.summary()"
   ]
  },
  {
   "cell_type": "code",
   "execution_count": 45,
   "metadata": {},
   "outputs": [],
   "source": [
    "model.compile(loss='binary_crossentropy', optimizer='Adam', metrics=['accuracy'])"
   ]
  },
  {
   "cell_type": "code",
   "execution_count": 46,
   "metadata": {},
   "outputs": [
    {
     "name": "stdout",
     "output_type": "stream",
     "text": [
      "Epoch 1/100\n",
      "\u001b[1m200/200\u001b[0m \u001b[32m━━━━━━━━━━━━━━━━━━━━\u001b[0m\u001b[37m\u001b[0m \u001b[1m2s\u001b[0m 4ms/step - accuracy: 0.7664 - loss: 0.5615 - val_accuracy: 0.8056 - val_loss: 0.4670\n",
      "Epoch 2/100\n",
      "\u001b[1m200/200\u001b[0m \u001b[32m━━━━━━━━━━━━━━━━━━━━\u001b[0m\u001b[37m\u001b[0m \u001b[1m1s\u001b[0m 3ms/step - accuracy: 0.8065 - loss: 0.4543 - val_accuracy: 0.8100 - val_loss: 0.4381\n",
      "Epoch 3/100\n",
      "\u001b[1m200/200\u001b[0m \u001b[32m━━━━━━━━━━━━━━━━━━━━\u001b[0m\u001b[37m\u001b[0m \u001b[1m1s\u001b[0m 2ms/step - accuracy: 0.8179 - loss: 0.4276 - val_accuracy: 0.8156 - val_loss: 0.4296\n",
      "Epoch 4/100\n",
      "\u001b[1m200/200\u001b[0m \u001b[32m━━━━━━━━━━━━━━━━━━━━\u001b[0m\u001b[37m\u001b[0m \u001b[1m1s\u001b[0m 3ms/step - accuracy: 0.8258 - loss: 0.4148 - val_accuracy: 0.8169 - val_loss: 0.4218\n",
      "Epoch 5/100\n",
      "\u001b[1m200/200\u001b[0m \u001b[32m━━━━━━━━━━━━━━━━━━━━\u001b[0m\u001b[37m\u001b[0m \u001b[1m0s\u001b[0m 2ms/step - accuracy: 0.8223 - loss: 0.4152 - val_accuracy: 0.8206 - val_loss: 0.4153\n",
      "Epoch 6/100\n",
      "\u001b[1m200/200\u001b[0m \u001b[32m━━━━━━━━━━━━━━━━━━━━\u001b[0m\u001b[37m\u001b[0m \u001b[1m0s\u001b[0m 2ms/step - accuracy: 0.8324 - loss: 0.4027 - val_accuracy: 0.8263 - val_loss: 0.4083\n",
      "Epoch 7/100\n",
      "\u001b[1m200/200\u001b[0m \u001b[32m━━━━━━━━━━━━━━━━━━━━\u001b[0m\u001b[37m\u001b[0m \u001b[1m0s\u001b[0m 2ms/step - accuracy: 0.8399 - loss: 0.3849 - val_accuracy: 0.8313 - val_loss: 0.3969\n",
      "Epoch 8/100\n",
      "\u001b[1m200/200\u001b[0m \u001b[32m━━━━━━━━━━━━━━━━━━━━\u001b[0m\u001b[37m\u001b[0m \u001b[1m0s\u001b[0m 2ms/step - accuracy: 0.8319 - loss: 0.3984 - val_accuracy: 0.8381 - val_loss: 0.3869\n",
      "Epoch 9/100\n",
      "\u001b[1m200/200\u001b[0m \u001b[32m━━━━━━━━━━━━━━━━━━━━\u001b[0m\u001b[37m\u001b[0m \u001b[1m0s\u001b[0m 2ms/step - accuracy: 0.8458 - loss: 0.3753 - val_accuracy: 0.8394 - val_loss: 0.3782\n",
      "Epoch 10/100\n",
      "\u001b[1m200/200\u001b[0m \u001b[32m━━━━━━━━━━━━━━━━━━━━\u001b[0m\u001b[37m\u001b[0m \u001b[1m1s\u001b[0m 3ms/step - accuracy: 0.8494 - loss: 0.3654 - val_accuracy: 0.8438 - val_loss: 0.3733\n",
      "Epoch 11/100\n",
      "\u001b[1m200/200\u001b[0m \u001b[32m━━━━━━━━━━━━━━━━━━━━\u001b[0m\u001b[37m\u001b[0m \u001b[1m1s\u001b[0m 2ms/step - accuracy: 0.8570 - loss: 0.3511 - val_accuracy: 0.8450 - val_loss: 0.3687\n",
      "Epoch 12/100\n",
      "\u001b[1m200/200\u001b[0m \u001b[32m━━━━━━━━━━━━━━━━━━━━\u001b[0m\u001b[37m\u001b[0m \u001b[1m1s\u001b[0m 2ms/step - accuracy: 0.8605 - loss: 0.3556 - val_accuracy: 0.8494 - val_loss: 0.3657\n",
      "Epoch 13/100\n",
      "\u001b[1m200/200\u001b[0m \u001b[32m━━━━━━━━━━━━━━━━━━━━\u001b[0m\u001b[37m\u001b[0m \u001b[1m1s\u001b[0m 2ms/step - accuracy: 0.8566 - loss: 0.3477 - val_accuracy: 0.8487 - val_loss: 0.3658\n",
      "Epoch 14/100\n",
      "\u001b[1m200/200\u001b[0m \u001b[32m━━━━━━━━━━━━━━━━━━━━\u001b[0m\u001b[37m\u001b[0m \u001b[1m0s\u001b[0m 2ms/step - accuracy: 0.8504 - loss: 0.3521 - val_accuracy: 0.8500 - val_loss: 0.3638\n",
      "Epoch 15/100\n",
      "\u001b[1m200/200\u001b[0m \u001b[32m━━━━━━━━━━━━━━━━━━━━\u001b[0m\u001b[37m\u001b[0m \u001b[1m0s\u001b[0m 2ms/step - accuracy: 0.8633 - loss: 0.3389 - val_accuracy: 0.8506 - val_loss: 0.3647\n",
      "Epoch 16/100\n",
      "\u001b[1m200/200\u001b[0m \u001b[32m━━━━━━━━━━━━━━━━━━━━\u001b[0m\u001b[37m\u001b[0m \u001b[1m0s\u001b[0m 2ms/step - accuracy: 0.8592 - loss: 0.3452 - val_accuracy: 0.8494 - val_loss: 0.3627\n",
      "Epoch 17/100\n",
      "\u001b[1m200/200\u001b[0m \u001b[32m━━━━━━━━━━━━━━━━━━━━\u001b[0m\u001b[37m\u001b[0m \u001b[1m0s\u001b[0m 2ms/step - accuracy: 0.8640 - loss: 0.3322 - val_accuracy: 0.8531 - val_loss: 0.3625\n",
      "Epoch 18/100\n",
      "\u001b[1m200/200\u001b[0m \u001b[32m━━━━━━━━━━━━━━━━━━━━\u001b[0m\u001b[37m\u001b[0m \u001b[1m0s\u001b[0m 2ms/step - accuracy: 0.8726 - loss: 0.3248 - val_accuracy: 0.8494 - val_loss: 0.3630\n",
      "Epoch 19/100\n",
      "\u001b[1m200/200\u001b[0m \u001b[32m━━━━━━━━━━━━━━━━━━━━\u001b[0m\u001b[37m\u001b[0m \u001b[1m0s\u001b[0m 2ms/step - accuracy: 0.8645 - loss: 0.3266 - val_accuracy: 0.8531 - val_loss: 0.3618\n",
      "Epoch 20/100\n",
      "\u001b[1m200/200\u001b[0m \u001b[32m━━━━━━━━━━━━━━━━━━━━\u001b[0m\u001b[37m\u001b[0m \u001b[1m0s\u001b[0m 2ms/step - accuracy: 0.8592 - loss: 0.3455 - val_accuracy: 0.8569 - val_loss: 0.3608\n",
      "Epoch 21/100\n",
      "\u001b[1m200/200\u001b[0m \u001b[32m━━━━━━━━━━━━━━━━━━━━\u001b[0m\u001b[37m\u001b[0m \u001b[1m0s\u001b[0m 2ms/step - accuracy: 0.8634 - loss: 0.3363 - val_accuracy: 0.8512 - val_loss: 0.3614\n",
      "Epoch 22/100\n",
      "\u001b[1m200/200\u001b[0m \u001b[32m━━━━━━━━━━━━━━━━━━━━\u001b[0m\u001b[37m\u001b[0m \u001b[1m0s\u001b[0m 2ms/step - accuracy: 0.8753 - loss: 0.3174 - val_accuracy: 0.8525 - val_loss: 0.3609\n",
      "Epoch 23/100\n",
      "\u001b[1m200/200\u001b[0m \u001b[32m━━━━━━━━━━━━━━━━━━━━\u001b[0m\u001b[37m\u001b[0m \u001b[1m0s\u001b[0m 2ms/step - accuracy: 0.8728 - loss: 0.3232 - val_accuracy: 0.8525 - val_loss: 0.3601\n",
      "Epoch 24/100\n",
      "\u001b[1m200/200\u001b[0m \u001b[32m━━━━━━━━━━━━━━━━━━━━\u001b[0m\u001b[37m\u001b[0m \u001b[1m0s\u001b[0m 2ms/step - accuracy: 0.8668 - loss: 0.3314 - val_accuracy: 0.8500 - val_loss: 0.3607\n",
      "Epoch 25/100\n",
      "\u001b[1m200/200\u001b[0m \u001b[32m━━━━━━━━━━━━━━━━━━━━\u001b[0m\u001b[37m\u001b[0m \u001b[1m1s\u001b[0m 3ms/step - accuracy: 0.8685 - loss: 0.3322 - val_accuracy: 0.8556 - val_loss: 0.3600\n",
      "Epoch 26/100\n",
      "\u001b[1m200/200\u001b[0m \u001b[32m━━━━━━━━━━━━━━━━━━━━\u001b[0m\u001b[37m\u001b[0m \u001b[1m0s\u001b[0m 2ms/step - accuracy: 0.8641 - loss: 0.3329 - val_accuracy: 0.8575 - val_loss: 0.3601\n",
      "Epoch 27/100\n",
      "\u001b[1m200/200\u001b[0m \u001b[32m━━━━━━━━━━━━━━━━━━━━\u001b[0m\u001b[37m\u001b[0m \u001b[1m0s\u001b[0m 2ms/step - accuracy: 0.8635 - loss: 0.3318 - val_accuracy: 0.8556 - val_loss: 0.3591\n",
      "Epoch 28/100\n",
      "\u001b[1m200/200\u001b[0m \u001b[32m━━━━━━━━━━━━━━━━━━━━\u001b[0m\u001b[37m\u001b[0m \u001b[1m0s\u001b[0m 2ms/step - accuracy: 0.8674 - loss: 0.3240 - val_accuracy: 0.8550 - val_loss: 0.3587\n",
      "Epoch 29/100\n",
      "\u001b[1m200/200\u001b[0m \u001b[32m━━━━━━━━━━━━━━━━━━━━\u001b[0m\u001b[37m\u001b[0m \u001b[1m0s\u001b[0m 2ms/step - accuracy: 0.8653 - loss: 0.3303 - val_accuracy: 0.8562 - val_loss: 0.3580\n",
      "Epoch 30/100\n",
      "\u001b[1m200/200\u001b[0m \u001b[32m━━━━━━━━━━━━━━━━━━━━\u001b[0m\u001b[37m\u001b[0m \u001b[1m0s\u001b[0m 2ms/step - accuracy: 0.8582 - loss: 0.3394 - val_accuracy: 0.8587 - val_loss: 0.3584\n",
      "Epoch 31/100\n",
      "\u001b[1m200/200\u001b[0m \u001b[32m━━━━━━━━━━━━━━━━━━━━\u001b[0m\u001b[37m\u001b[0m \u001b[1m0s\u001b[0m 2ms/step - accuracy: 0.8702 - loss: 0.3215 - val_accuracy: 0.8556 - val_loss: 0.3581\n",
      "Epoch 32/100\n",
      "\u001b[1m200/200\u001b[0m \u001b[32m━━━━━━━━━━━━━━━━━━━━\u001b[0m\u001b[37m\u001b[0m \u001b[1m0s\u001b[0m 2ms/step - accuracy: 0.8616 - loss: 0.3385 - val_accuracy: 0.8562 - val_loss: 0.3583\n",
      "Epoch 33/100\n",
      "\u001b[1m200/200\u001b[0m \u001b[32m━━━━━━━━━━━━━━━━━━━━\u001b[0m\u001b[37m\u001b[0m \u001b[1m0s\u001b[0m 2ms/step - accuracy: 0.8617 - loss: 0.3372 - val_accuracy: 0.8531 - val_loss: 0.3583\n",
      "Epoch 34/100\n",
      "\u001b[1m200/200\u001b[0m \u001b[32m━━━━━━━━━━━━━━━━━━━━\u001b[0m\u001b[37m\u001b[0m \u001b[1m1s\u001b[0m 2ms/step - accuracy: 0.8665 - loss: 0.3211 - val_accuracy: 0.8581 - val_loss: 0.3565\n",
      "Epoch 35/100\n",
      "\u001b[1m200/200\u001b[0m \u001b[32m━━━━━━━━━━━━━━━━━━━━\u001b[0m\u001b[37m\u001b[0m \u001b[1m0s\u001b[0m 2ms/step - accuracy: 0.8758 - loss: 0.3190 - val_accuracy: 0.8556 - val_loss: 0.3564\n",
      "Epoch 36/100\n",
      "\u001b[1m200/200\u001b[0m \u001b[32m━━━━━━━━━━━━━━━━━━━━\u001b[0m\u001b[37m\u001b[0m \u001b[1m0s\u001b[0m 2ms/step - accuracy: 0.8719 - loss: 0.3265 - val_accuracy: 0.8550 - val_loss: 0.3573\n",
      "Epoch 37/100\n",
      "\u001b[1m200/200\u001b[0m \u001b[32m━━━━━━━━━━━━━━━━━━━━\u001b[0m\u001b[37m\u001b[0m \u001b[1m0s\u001b[0m 2ms/step - accuracy: 0.8630 - loss: 0.3306 - val_accuracy: 0.8587 - val_loss: 0.3557\n",
      "Epoch 38/100\n",
      "\u001b[1m200/200\u001b[0m \u001b[32m━━━━━━━━━━━━━━━━━━━━\u001b[0m\u001b[37m\u001b[0m \u001b[1m0s\u001b[0m 2ms/step - accuracy: 0.8667 - loss: 0.3208 - val_accuracy: 0.8562 - val_loss: 0.3548\n",
      "Epoch 39/100\n",
      "\u001b[1m200/200\u001b[0m \u001b[32m━━━━━━━━━━━━━━━━━━━━\u001b[0m\u001b[37m\u001b[0m \u001b[1m0s\u001b[0m 2ms/step - accuracy: 0.8620 - loss: 0.3461 - val_accuracy: 0.8575 - val_loss: 0.3557\n",
      "Epoch 40/100\n",
      "\u001b[1m200/200\u001b[0m \u001b[32m━━━━━━━━━━━━━━━━━━━━\u001b[0m\u001b[37m\u001b[0m \u001b[1m0s\u001b[0m 2ms/step - accuracy: 0.8585 - loss: 0.3454 - val_accuracy: 0.8581 - val_loss: 0.3555\n",
      "Epoch 41/100\n",
      "\u001b[1m200/200\u001b[0m \u001b[32m━━━━━━━━━━━━━━━━━━━━\u001b[0m\u001b[37m\u001b[0m \u001b[1m0s\u001b[0m 2ms/step - accuracy: 0.8606 - loss: 0.3352 - val_accuracy: 0.8587 - val_loss: 0.3549\n",
      "Epoch 42/100\n",
      "\u001b[1m200/200\u001b[0m \u001b[32m━━━━━━━━━━━━━━━━━━━━\u001b[0m\u001b[37m\u001b[0m \u001b[1m1s\u001b[0m 2ms/step - accuracy: 0.8592 - loss: 0.3323 - val_accuracy: 0.8606 - val_loss: 0.3551\n",
      "Epoch 43/100\n",
      "\u001b[1m200/200\u001b[0m \u001b[32m━━━━━━━━━━━━━━━━━━━━\u001b[0m\u001b[37m\u001b[0m \u001b[1m1s\u001b[0m 2ms/step - accuracy: 0.8680 - loss: 0.3275 - val_accuracy: 0.8587 - val_loss: 0.3544\n",
      "Epoch 44/100\n",
      "\u001b[1m200/200\u001b[0m \u001b[32m━━━━━━━━━━━━━━━━━━━━\u001b[0m\u001b[37m\u001b[0m \u001b[1m0s\u001b[0m 2ms/step - accuracy: 0.8799 - loss: 0.3118 - val_accuracy: 0.8575 - val_loss: 0.3554\n",
      "Epoch 45/100\n",
      "\u001b[1m200/200\u001b[0m \u001b[32m━━━━━━━━━━━━━━━━━━━━\u001b[0m\u001b[37m\u001b[0m \u001b[1m0s\u001b[0m 2ms/step - accuracy: 0.8641 - loss: 0.3232 - val_accuracy: 0.8562 - val_loss: 0.3536\n",
      "Epoch 46/100\n",
      "\u001b[1m200/200\u001b[0m \u001b[32m━━━━━━━━━━━━━━━━━━━━\u001b[0m\u001b[37m\u001b[0m \u001b[1m0s\u001b[0m 2ms/step - accuracy: 0.8688 - loss: 0.3236 - val_accuracy: 0.8537 - val_loss: 0.3542\n",
      "Epoch 47/100\n",
      "\u001b[1m200/200\u001b[0m \u001b[32m━━━━━━━━━━━━━━━━━━━━\u001b[0m\u001b[37m\u001b[0m \u001b[1m0s\u001b[0m 2ms/step - accuracy: 0.8717 - loss: 0.3150 - val_accuracy: 0.8562 - val_loss: 0.3535\n",
      "Epoch 48/100\n",
      "\u001b[1m200/200\u001b[0m \u001b[32m━━━━━━━━━━━━━━━━━━━━\u001b[0m\u001b[37m\u001b[0m \u001b[1m0s\u001b[0m 2ms/step - accuracy: 0.8573 - loss: 0.3391 - val_accuracy: 0.8606 - val_loss: 0.3535\n",
      "Epoch 49/100\n",
      "\u001b[1m200/200\u001b[0m \u001b[32m━━━━━━━━━━━━━━━━━━━━\u001b[0m\u001b[37m\u001b[0m \u001b[1m0s\u001b[0m 2ms/step - accuracy: 0.8694 - loss: 0.3166 - val_accuracy: 0.8537 - val_loss: 0.3532\n",
      "Epoch 50/100\n",
      "\u001b[1m200/200\u001b[0m \u001b[32m━━━━━━━━━━━━━━━━━━━━\u001b[0m\u001b[37m\u001b[0m \u001b[1m1s\u001b[0m 2ms/step - accuracy: 0.8684 - loss: 0.3191 - val_accuracy: 0.8575 - val_loss: 0.3540\n",
      "Epoch 51/100\n",
      "\u001b[1m200/200\u001b[0m \u001b[32m━━━━━━━━━━━━━━━━━━━━\u001b[0m\u001b[37m\u001b[0m \u001b[1m0s\u001b[0m 2ms/step - accuracy: 0.8523 - loss: 0.3391 - val_accuracy: 0.8550 - val_loss: 0.3562\n",
      "Epoch 52/100\n",
      "\u001b[1m200/200\u001b[0m \u001b[32m━━━━━━━━━━━━━━━━━━━━\u001b[0m\u001b[37m\u001b[0m \u001b[1m0s\u001b[0m 2ms/step - accuracy: 0.8675 - loss: 0.3126 - val_accuracy: 0.8569 - val_loss: 0.3537\n",
      "Epoch 53/100\n",
      "\u001b[1m200/200\u001b[0m \u001b[32m━━━━━━━━━━━━━━━━━━━━\u001b[0m\u001b[37m\u001b[0m \u001b[1m0s\u001b[0m 2ms/step - accuracy: 0.8669 - loss: 0.3331 - val_accuracy: 0.8575 - val_loss: 0.3558\n",
      "Epoch 54/100\n",
      "\u001b[1m200/200\u001b[0m \u001b[32m━━━━━━━━━━━━━━━━━━━━\u001b[0m\u001b[37m\u001b[0m \u001b[1m0s\u001b[0m 2ms/step - accuracy: 0.8685 - loss: 0.3243 - val_accuracy: 0.8600 - val_loss: 0.3531\n",
      "Epoch 55/100\n",
      "\u001b[1m200/200\u001b[0m \u001b[32m━━━━━━━━━━━━━━━━━━━━\u001b[0m\u001b[37m\u001b[0m \u001b[1m0s\u001b[0m 2ms/step - accuracy: 0.8665 - loss: 0.3292 - val_accuracy: 0.8631 - val_loss: 0.3541\n",
      "Epoch 56/100\n",
      "\u001b[1m200/200\u001b[0m \u001b[32m━━━━━━━━━━━━━━━━━━━━\u001b[0m\u001b[37m\u001b[0m \u001b[1m1s\u001b[0m 2ms/step - accuracy: 0.8742 - loss: 0.3084 - val_accuracy: 0.8569 - val_loss: 0.3529\n",
      "Epoch 57/100\n",
      "\u001b[1m200/200\u001b[0m \u001b[32m━━━━━━━━━━━━━━━━━━━━\u001b[0m\u001b[37m\u001b[0m \u001b[1m0s\u001b[0m 2ms/step - accuracy: 0.8682 - loss: 0.3225 - val_accuracy: 0.8581 - val_loss: 0.3529\n",
      "Epoch 58/100\n",
      "\u001b[1m200/200\u001b[0m \u001b[32m━━━━━━━━━━━━━━━━━━━━\u001b[0m\u001b[37m\u001b[0m \u001b[1m0s\u001b[0m 2ms/step - accuracy: 0.8715 - loss: 0.3123 - val_accuracy: 0.8581 - val_loss: 0.3528\n",
      "Epoch 59/100\n",
      "\u001b[1m200/200\u001b[0m \u001b[32m━━━━━━━━━━━━━━━━━━━━\u001b[0m\u001b[37m\u001b[0m \u001b[1m0s\u001b[0m 2ms/step - accuracy: 0.8676 - loss: 0.3197 - val_accuracy: 0.8600 - val_loss: 0.3549\n",
      "Epoch 60/100\n",
      "\u001b[1m200/200\u001b[0m \u001b[32m━━━━━━━━━━━━━━━━━━━━\u001b[0m\u001b[37m\u001b[0m \u001b[1m0s\u001b[0m 2ms/step - accuracy: 0.8731 - loss: 0.3157 - val_accuracy: 0.8562 - val_loss: 0.3538\n",
      "Epoch 61/100\n",
      "\u001b[1m200/200\u001b[0m \u001b[32m━━━━━━━━━━━━━━━━━━━━\u001b[0m\u001b[37m\u001b[0m \u001b[1m0s\u001b[0m 2ms/step - accuracy: 0.8695 - loss: 0.3143 - val_accuracy: 0.8612 - val_loss: 0.3533\n",
      "Epoch 62/100\n",
      "\u001b[1m200/200\u001b[0m \u001b[32m━━━━━━━━━━━━━━━━━━━━\u001b[0m\u001b[37m\u001b[0m \u001b[1m0s\u001b[0m 2ms/step - accuracy: 0.8696 - loss: 0.3184 - val_accuracy: 0.8550 - val_loss: 0.3538\n",
      "Epoch 63/100\n",
      "\u001b[1m200/200\u001b[0m \u001b[32m━━━━━━━━━━━━━━━━━━━━\u001b[0m\u001b[37m\u001b[0m \u001b[1m0s\u001b[0m 2ms/step - accuracy: 0.8705 - loss: 0.3165 - val_accuracy: 0.8594 - val_loss: 0.3520\n",
      "Epoch 64/100\n",
      "\u001b[1m200/200\u001b[0m \u001b[32m━━━━━━━━━━━━━━━━━━━━\u001b[0m\u001b[37m\u001b[0m \u001b[1m0s\u001b[0m 2ms/step - accuracy: 0.8677 - loss: 0.3203 - val_accuracy: 0.8575 - val_loss: 0.3525\n",
      "Epoch 65/100\n",
      "\u001b[1m200/200\u001b[0m \u001b[32m━━━━━━━━━━━━━━━━━━━━\u001b[0m\u001b[37m\u001b[0m \u001b[1m0s\u001b[0m 2ms/step - accuracy: 0.8694 - loss: 0.3179 - val_accuracy: 0.8600 - val_loss: 0.3520\n",
      "Epoch 66/100\n",
      "\u001b[1m200/200\u001b[0m \u001b[32m━━━━━━━━━━━━━━━━━━━━\u001b[0m\u001b[37m\u001b[0m \u001b[1m0s\u001b[0m 2ms/step - accuracy: 0.8661 - loss: 0.3182 - val_accuracy: 0.8625 - val_loss: 0.3519\n",
      "Epoch 67/100\n",
      "\u001b[1m200/200\u001b[0m \u001b[32m━━━━━━━━━━━━━━━━━━━━\u001b[0m\u001b[37m\u001b[0m \u001b[1m1s\u001b[0m 2ms/step - accuracy: 0.8664 - loss: 0.3226 - val_accuracy: 0.8612 - val_loss: 0.3528\n",
      "Epoch 68/100\n",
      "\u001b[1m200/200\u001b[0m \u001b[32m━━━━━━━━━━━━━━━━━━━━\u001b[0m\u001b[37m\u001b[0m \u001b[1m0s\u001b[0m 2ms/step - accuracy: 0.8735 - loss: 0.3143 - val_accuracy: 0.8600 - val_loss: 0.3528\n",
      "Epoch 69/100\n",
      "\u001b[1m200/200\u001b[0m \u001b[32m━━━━━━━━━━━━━━━━━━━━\u001b[0m\u001b[37m\u001b[0m \u001b[1m0s\u001b[0m 2ms/step - accuracy: 0.8683 - loss: 0.3258 - val_accuracy: 0.8606 - val_loss: 0.3527\n",
      "Epoch 70/100\n",
      "\u001b[1m200/200\u001b[0m \u001b[32m━━━━━━━━━━━━━━━━━━━━\u001b[0m\u001b[37m\u001b[0m \u001b[1m0s\u001b[0m 2ms/step - accuracy: 0.8669 - loss: 0.3218 - val_accuracy: 0.8569 - val_loss: 0.3552\n",
      "Epoch 71/100\n",
      "\u001b[1m200/200\u001b[0m \u001b[32m━━━━━━━━━━━━━━━━━━━━\u001b[0m\u001b[37m\u001b[0m \u001b[1m0s\u001b[0m 2ms/step - accuracy: 0.8760 - loss: 0.3057 - val_accuracy: 0.8631 - val_loss: 0.3522\n",
      "Epoch 72/100\n",
      "\u001b[1m200/200\u001b[0m \u001b[32m━━━━━━━━━━━━━━━━━━━━\u001b[0m\u001b[37m\u001b[0m \u001b[1m0s\u001b[0m 2ms/step - accuracy: 0.8716 - loss: 0.3139 - val_accuracy: 0.8569 - val_loss: 0.3534\n",
      "Epoch 73/100\n",
      "\u001b[1m200/200\u001b[0m \u001b[32m━━━━━━━━━━━━━━━━━━━━\u001b[0m\u001b[37m\u001b[0m \u001b[1m0s\u001b[0m 2ms/step - accuracy: 0.8699 - loss: 0.3228 - val_accuracy: 0.8619 - val_loss: 0.3528\n",
      "Epoch 74/100\n",
      "\u001b[1m200/200\u001b[0m \u001b[32m━━━━━━━━━━━━━━━━━━━━\u001b[0m\u001b[37m\u001b[0m \u001b[1m0s\u001b[0m 2ms/step - accuracy: 0.8714 - loss: 0.3143 - val_accuracy: 0.8575 - val_loss: 0.3526\n",
      "Epoch 75/100\n",
      "\u001b[1m200/200\u001b[0m \u001b[32m━━━━━━━━━━━━━━━━━━━━\u001b[0m\u001b[37m\u001b[0m \u001b[1m0s\u001b[0m 2ms/step - accuracy: 0.8694 - loss: 0.3244 - val_accuracy: 0.8631 - val_loss: 0.3534\n",
      "Epoch 76/100\n",
      "\u001b[1m200/200\u001b[0m \u001b[32m━━━━━━━━━━━━━━━━━━━━\u001b[0m\u001b[37m\u001b[0m \u001b[1m0s\u001b[0m 2ms/step - accuracy: 0.8655 - loss: 0.3274 - val_accuracy: 0.8562 - val_loss: 0.3525\n",
      "Epoch 77/100\n",
      "\u001b[1m200/200\u001b[0m \u001b[32m━━━━━━━━━━━━━━━━━━━━\u001b[0m\u001b[37m\u001b[0m \u001b[1m0s\u001b[0m 2ms/step - accuracy: 0.8693 - loss: 0.3220 - val_accuracy: 0.8637 - val_loss: 0.3526\n",
      "Epoch 78/100\n",
      "\u001b[1m200/200\u001b[0m \u001b[32m━━━━━━━━━━━━━━━━━━━━\u001b[0m\u001b[37m\u001b[0m \u001b[1m0s\u001b[0m 2ms/step - accuracy: 0.8748 - loss: 0.3112 - val_accuracy: 0.8569 - val_loss: 0.3528\n",
      "Epoch 79/100\n",
      "\u001b[1m200/200\u001b[0m \u001b[32m━━━━━━━━━━━━━━━━━━━━\u001b[0m\u001b[37m\u001b[0m \u001b[1m0s\u001b[0m 2ms/step - accuracy: 0.8721 - loss: 0.3155 - val_accuracy: 0.8606 - val_loss: 0.3542\n",
      "Epoch 80/100\n",
      "\u001b[1m200/200\u001b[0m \u001b[32m━━━━━━━━━━━━━━━━━━━━\u001b[0m\u001b[37m\u001b[0m \u001b[1m0s\u001b[0m 2ms/step - accuracy: 0.8663 - loss: 0.3198 - val_accuracy: 0.8619 - val_loss: 0.3530\n",
      "Epoch 81/100\n",
      "\u001b[1m200/200\u001b[0m \u001b[32m━━━━━━━━━━━━━━━━━━━━\u001b[0m\u001b[37m\u001b[0m \u001b[1m1s\u001b[0m 3ms/step - accuracy: 0.8609 - loss: 0.3373 - val_accuracy: 0.8612 - val_loss: 0.3535\n",
      "Epoch 82/100\n",
      "\u001b[1m200/200\u001b[0m \u001b[32m━━━━━━━━━━━━━━━━━━━━\u001b[0m\u001b[37m\u001b[0m \u001b[1m0s\u001b[0m 2ms/step - accuracy: 0.8724 - loss: 0.3176 - val_accuracy: 0.8637 - val_loss: 0.3535\n",
      "Epoch 83/100\n",
      "\u001b[1m200/200\u001b[0m \u001b[32m━━━━━━━━━━━━━━━━━━━━\u001b[0m\u001b[37m\u001b[0m \u001b[1m0s\u001b[0m 2ms/step - accuracy: 0.8656 - loss: 0.3278 - val_accuracy: 0.8612 - val_loss: 0.3540\n",
      "Epoch 84/100\n",
      "\u001b[1m200/200\u001b[0m \u001b[32m━━━━━━━━━━━━━━━━━━━━\u001b[0m\u001b[37m\u001b[0m \u001b[1m0s\u001b[0m 2ms/step - accuracy: 0.8721 - loss: 0.3170 - val_accuracy: 0.8600 - val_loss: 0.3539\n",
      "Epoch 85/100\n",
      "\u001b[1m200/200\u001b[0m \u001b[32m━━━━━━━━━━━━━━━━━━━━\u001b[0m\u001b[37m\u001b[0m \u001b[1m0s\u001b[0m 2ms/step - accuracy: 0.8585 - loss: 0.3350 - val_accuracy: 0.8612 - val_loss: 0.3532\n",
      "Epoch 86/100\n",
      "\u001b[1m200/200\u001b[0m \u001b[32m━━━━━━━━━━━━━━━━━━━━\u001b[0m\u001b[37m\u001b[0m \u001b[1m0s\u001b[0m 2ms/step - accuracy: 0.8647 - loss: 0.3260 - val_accuracy: 0.8606 - val_loss: 0.3538\n",
      "Epoch 87/100\n",
      "\u001b[1m200/200\u001b[0m \u001b[32m━━━━━━━━━━━━━━━━━━━━\u001b[0m\u001b[37m\u001b[0m \u001b[1m0s\u001b[0m 2ms/step - accuracy: 0.8707 - loss: 0.3110 - val_accuracy: 0.8600 - val_loss: 0.3542\n",
      "Epoch 88/100\n",
      "\u001b[1m200/200\u001b[0m \u001b[32m━━━━━━━━━━━━━━━━━━━━\u001b[0m\u001b[37m\u001b[0m \u001b[1m0s\u001b[0m 2ms/step - accuracy: 0.8632 - loss: 0.3289 - val_accuracy: 0.8594 - val_loss: 0.3565\n",
      "Epoch 89/100\n",
      "\u001b[1m200/200\u001b[0m \u001b[32m━━━━━━━━━━━━━━━━━━━━\u001b[0m\u001b[37m\u001b[0m \u001b[1m1s\u001b[0m 2ms/step - accuracy: 0.8736 - loss: 0.3067 - val_accuracy: 0.8612 - val_loss: 0.3543\n",
      "Epoch 90/100\n",
      "\u001b[1m200/200\u001b[0m \u001b[32m━━━━━━━━━━━━━━━━━━━━\u001b[0m\u001b[37m\u001b[0m \u001b[1m0s\u001b[0m 2ms/step - accuracy: 0.8709 - loss: 0.3150 - val_accuracy: 0.8594 - val_loss: 0.3543\n",
      "Epoch 91/100\n",
      "\u001b[1m200/200\u001b[0m \u001b[32m━━━━━━━━━━━━━━━━━━━━\u001b[0m\u001b[37m\u001b[0m \u001b[1m1s\u001b[0m 2ms/step - accuracy: 0.8715 - loss: 0.3144 - val_accuracy: 0.8587 - val_loss: 0.3568\n",
      "Epoch 92/100\n",
      "\u001b[1m200/200\u001b[0m \u001b[32m━━━━━━━━━━━━━━━━━━━━\u001b[0m\u001b[37m\u001b[0m \u001b[1m0s\u001b[0m 2ms/step - accuracy: 0.8710 - loss: 0.3200 - val_accuracy: 0.8600 - val_loss: 0.3544\n",
      "Epoch 93/100\n",
      "\u001b[1m200/200\u001b[0m \u001b[32m━━━━━━━━━━━━━━━━━━━━\u001b[0m\u001b[37m\u001b[0m \u001b[1m0s\u001b[0m 2ms/step - accuracy: 0.8735 - loss: 0.3087 - val_accuracy: 0.8575 - val_loss: 0.3537\n",
      "Epoch 94/100\n",
      "\u001b[1m200/200\u001b[0m \u001b[32m━━━━━━━━━━━━━━━━━━━━\u001b[0m\u001b[37m\u001b[0m \u001b[1m0s\u001b[0m 2ms/step - accuracy: 0.8680 - loss: 0.3144 - val_accuracy: 0.8594 - val_loss: 0.3539\n",
      "Epoch 95/100\n",
      "\u001b[1m200/200\u001b[0m \u001b[32m━━━━━━━━━━━━━━━━━━━━\u001b[0m\u001b[37m\u001b[0m \u001b[1m0s\u001b[0m 2ms/step - accuracy: 0.8681 - loss: 0.3182 - val_accuracy: 0.8594 - val_loss: 0.3543\n",
      "Epoch 96/100\n",
      "\u001b[1m200/200\u001b[0m \u001b[32m━━━━━━━━━━━━━━━━━━━━\u001b[0m\u001b[37m\u001b[0m \u001b[1m0s\u001b[0m 2ms/step - accuracy: 0.8682 - loss: 0.3130 - val_accuracy: 0.8619 - val_loss: 0.3547\n",
      "Epoch 97/100\n",
      "\u001b[1m200/200\u001b[0m \u001b[32m━━━━━━━━━━━━━━━━━━━━\u001b[0m\u001b[37m\u001b[0m \u001b[1m1s\u001b[0m 3ms/step - accuracy: 0.8762 - loss: 0.3067 - val_accuracy: 0.8556 - val_loss: 0.3548\n",
      "Epoch 98/100\n",
      "\u001b[1m200/200\u001b[0m \u001b[32m━━━━━━━━━━━━━━━━━━━━\u001b[0m\u001b[37m\u001b[0m \u001b[1m0s\u001b[0m 2ms/step - accuracy: 0.8715 - loss: 0.3146 - val_accuracy: 0.8612 - val_loss: 0.3549\n",
      "Epoch 99/100\n",
      "\u001b[1m200/200\u001b[0m \u001b[32m━━━━━━━━━━━━━━━━━━━━\u001b[0m\u001b[37m\u001b[0m \u001b[1m1s\u001b[0m 3ms/step - accuracy: 0.8701 - loss: 0.3147 - val_accuracy: 0.8575 - val_loss: 0.3543\n",
      "Epoch 100/100\n",
      "\u001b[1m200/200\u001b[0m \u001b[32m━━━━━━━━━━━━━━━━━━━━\u001b[0m\u001b[37m\u001b[0m \u001b[1m1s\u001b[0m 3ms/step - accuracy: 0.8690 - loss: 0.3219 - val_accuracy: 0.8569 - val_loss: 0.3554\n"
     ]
    }
   ],
   "source": [
    "history = model.fit(X_train_trf, y_train, epochs=100,validation_split=0.2)"
   ]
  },
  {
   "cell_type": "code",
   "execution_count": 49,
   "metadata": {},
   "outputs": [
    {
     "data": {
      "text/plain": [
       "{'accuracy': [0.7876562476158142,\n",
       "  0.8134375214576721,\n",
       "  0.8165624737739563,\n",
       "  0.8223437666893005,\n",
       "  0.8256250023841858,\n",
       "  0.8314062356948853,\n",
       "  0.8376562595367432,\n",
       "  0.8454687595367432,\n",
       "  0.8514062762260437,\n",
       "  0.8518750071525574,\n",
       "  0.8560937643051147,\n",
       "  0.8576562404632568,\n",
       "  0.8568750023841858,\n",
       "  0.8579687476158142,\n",
       "  0.8590624928474426,\n",
       "  0.8596875071525574,\n",
       "  0.860156238079071,\n",
       "  0.86328125,\n",
       "  0.8612499833106995,\n",
       "  0.8634374737739563,\n",
       "  0.8637499809265137,\n",
       "  0.8643749952316284,\n",
       "  0.8637499809265137,\n",
       "  0.866406261920929,\n",
       "  0.8653125166893005,\n",
       "  0.8651562333106995,\n",
       "  0.8650000095367432,\n",
       "  0.8659374713897705,\n",
       "  0.8634374737739563,\n",
       "  0.8656250238418579,\n",
       "  0.8660937547683716,\n",
       "  0.8675000071525574,\n",
       "  0.8675000071525574,\n",
       "  0.8667187690734863,\n",
       "  0.8678125143051147,\n",
       "  0.8676562309265137,\n",
       "  0.8662499785423279,\n",
       "  0.8671875,\n",
       "  0.8673437237739563,\n",
       "  0.8668749928474426,\n",
       "  0.867968738079071,\n",
       "  0.8675000071525574,\n",
       "  0.8668749928474426,\n",
       "  0.8678125143051147,\n",
       "  0.8657812476158142,\n",
       "  0.8670312762260437,\n",
       "  0.8656250238418579,\n",
       "  0.8668749928474426,\n",
       "  0.8675000071525574,\n",
       "  0.8670312762260437,\n",
       "  0.8646875023841858,\n",
       "  0.8656250238418579,\n",
       "  0.8685937523841858,\n",
       "  0.8682812452316284,\n",
       "  0.8676562309265137,\n",
       "  0.8667187690734863,\n",
       "  0.8676562309265137,\n",
       "  0.867968738079071,\n",
       "  0.8681250214576721,\n",
       "  0.8671875,\n",
       "  0.8675000071525574,\n",
       "  0.8692187666893005,\n",
       "  0.8700000047683716,\n",
       "  0.8671875,\n",
       "  0.867968738079071,\n",
       "  0.8668749928474426,\n",
       "  0.8671875,\n",
       "  0.8690624833106995,\n",
       "  0.8700000047683716,\n",
       "  0.8696874976158142,\n",
       "  0.8684375286102295,\n",
       "  0.8675000071525574,\n",
       "  0.8706250190734863,\n",
       "  0.8685937523841858,\n",
       "  0.8692187666893005,\n",
       "  0.8689062595367432,\n",
       "  0.8692187666893005,\n",
       "  0.8682812452316284,\n",
       "  0.8681250214576721,\n",
       "  0.8676562309265137,\n",
       "  0.8692187666893005,\n",
       "  0.8693749904632568,\n",
       "  0.8693749904632568,\n",
       "  0.8700000047683716,\n",
       "  0.8678125143051147,\n",
       "  0.8682812452316284,\n",
       "  0.8687499761581421,\n",
       "  0.8687499761581421,\n",
       "  0.8696874976158142,\n",
       "  0.8693749904632568,\n",
       "  0.8700000047683716,\n",
       "  0.8707812428474426,\n",
       "  0.8714062571525574,\n",
       "  0.8682812452316284,\n",
       "  0.8712499737739563,\n",
       "  0.8673437237739563,\n",
       "  0.8707812428474426,\n",
       "  0.8701562285423279,\n",
       "  0.867968738079071,\n",
       "  0.8692187666893005],\n",
       " 'loss': [0.5233747959136963,\n",
       "  0.4432145059108734,\n",
       "  0.4253963530063629,\n",
       "  0.41702374815940857,\n",
       "  0.4098471403121948,\n",
       "  0.40073636174201965,\n",
       "  0.3907124698162079,\n",
       "  0.37784966826438904,\n",
       "  0.3672603964805603,\n",
       "  0.35841289162635803,\n",
       "  0.3523613214492798,\n",
       "  0.3487052023410797,\n",
       "  0.3463003635406494,\n",
       "  0.3443771004676819,\n",
       "  0.3426913917064667,\n",
       "  0.3411998748779297,\n",
       "  0.34037667512893677,\n",
       "  0.3393264710903168,\n",
       "  0.3378373086452484,\n",
       "  0.3376797139644623,\n",
       "  0.3368627429008484,\n",
       "  0.3354877233505249,\n",
       "  0.3351137936115265,\n",
       "  0.3349594473838806,\n",
       "  0.33336925506591797,\n",
       "  0.3330065608024597,\n",
       "  0.3328995406627655,\n",
       "  0.33145809173583984,\n",
       "  0.3314090371131897,\n",
       "  0.33093440532684326,\n",
       "  0.33010348677635193,\n",
       "  0.32996413111686707,\n",
       "  0.32971590757369995,\n",
       "  0.32915058732032776,\n",
       "  0.3287886381149292,\n",
       "  0.3288712203502655,\n",
       "  0.3282836675643921,\n",
       "  0.3277515470981598,\n",
       "  0.32731741666793823,\n",
       "  0.327433317899704,\n",
       "  0.3269164562225342,\n",
       "  0.3262653648853302,\n",
       "  0.3272398114204407,\n",
       "  0.32644546031951904,\n",
       "  0.32580962777137756,\n",
       "  0.3257993459701538,\n",
       "  0.3253442347049713,\n",
       "  0.32507678866386414,\n",
       "  0.3248768746852875,\n",
       "  0.32449260354042053,\n",
       "  0.32345935702323914,\n",
       "  0.3243441879749298,\n",
       "  0.32376858592033386,\n",
       "  0.3235248923301697,\n",
       "  0.3233296573162079,\n",
       "  0.3234087824821472,\n",
       "  0.323009192943573,\n",
       "  0.3227800130844116,\n",
       "  0.32267922163009644,\n",
       "  0.322253942489624,\n",
       "  0.3229365050792694,\n",
       "  0.3222658634185791,\n",
       "  0.32183608412742615,\n",
       "  0.3216823935508728,\n",
       "  0.32174381613731384,\n",
       "  0.32168567180633545,\n",
       "  0.32172366976737976,\n",
       "  0.3211488425731659,\n",
       "  0.321313738822937,\n",
       "  0.32077208161354065,\n",
       "  0.32084259390830994,\n",
       "  0.32099616527557373,\n",
       "  0.32116422057151794,\n",
       "  0.32085028290748596,\n",
       "  0.3208296298980713,\n",
       "  0.3201671838760376,\n",
       "  0.32036715745925903,\n",
       "  0.3201366066932678,\n",
       "  0.31999605894088745,\n",
       "  0.3194253146648407,\n",
       "  0.3197413384914398,\n",
       "  0.31975942850112915,\n",
       "  0.3189352750778198,\n",
       "  0.3189524710178375,\n",
       "  0.3188333213329315,\n",
       "  0.3193650543689728,\n",
       "  0.318606972694397,\n",
       "  0.31820788979530334,\n",
       "  0.3188648819923401,\n",
       "  0.3181018531322479,\n",
       "  0.318271279335022,\n",
       "  0.3185681402683258,\n",
       "  0.3171714246273041,\n",
       "  0.31789883971214294,\n",
       "  0.3175991177558899,\n",
       "  0.3178345263004303,\n",
       "  0.31755778193473816,\n",
       "  0.31708964705467224,\n",
       "  0.3172774612903595,\n",
       "  0.31680193543434143],\n",
       " 'val_accuracy': [0.8056250214576721,\n",
       "  0.8100000023841858,\n",
       "  0.815625011920929,\n",
       "  0.8168749809265137,\n",
       "  0.8206250071525574,\n",
       "  0.8262500166893005,\n",
       "  0.831250011920929,\n",
       "  0.8381249904632568,\n",
       "  0.8393750190734863,\n",
       "  0.84375,\n",
       "  0.8450000286102295,\n",
       "  0.8493750095367432,\n",
       "  0.8487499952316284,\n",
       "  0.8500000238418579,\n",
       "  0.8506249785423279,\n",
       "  0.8493750095367432,\n",
       "  0.8531249761581421,\n",
       "  0.8493750095367432,\n",
       "  0.8531249761581421,\n",
       "  0.8568750023841858,\n",
       "  0.8512499928474426,\n",
       "  0.8525000214576721,\n",
       "  0.8525000214576721,\n",
       "  0.8500000238418579,\n",
       "  0.8556249737739563,\n",
       "  0.8575000166893005,\n",
       "  0.8556249737739563,\n",
       "  0.8550000190734863,\n",
       "  0.856249988079071,\n",
       "  0.8587499856948853,\n",
       "  0.8556249737739563,\n",
       "  0.856249988079071,\n",
       "  0.8531249761581421,\n",
       "  0.8581249713897705,\n",
       "  0.8556249737739563,\n",
       "  0.8550000190734863,\n",
       "  0.8587499856948853,\n",
       "  0.856249988079071,\n",
       "  0.8575000166893005,\n",
       "  0.8581249713897705,\n",
       "  0.8587499856948853,\n",
       "  0.8606250286102295,\n",
       "  0.8587499856948853,\n",
       "  0.8575000166893005,\n",
       "  0.856249988079071,\n",
       "  0.8537499904632568,\n",
       "  0.856249988079071,\n",
       "  0.8606250286102295,\n",
       "  0.8537499904632568,\n",
       "  0.8575000166893005,\n",
       "  0.8550000190734863,\n",
       "  0.8568750023841858,\n",
       "  0.8575000166893005,\n",
       "  0.8600000143051147,\n",
       "  0.8631250262260437,\n",
       "  0.8568750023841858,\n",
       "  0.8581249713897705,\n",
       "  0.8581249713897705,\n",
       "  0.8600000143051147,\n",
       "  0.856249988079071,\n",
       "  0.8612499833106995,\n",
       "  0.8550000190734863,\n",
       "  0.859375,\n",
       "  0.8575000166893005,\n",
       "  0.8600000143051147,\n",
       "  0.862500011920929,\n",
       "  0.8612499833106995,\n",
       "  0.8600000143051147,\n",
       "  0.8606250286102295,\n",
       "  0.8568750023841858,\n",
       "  0.8631250262260437,\n",
       "  0.8568750023841858,\n",
       "  0.8618749976158142,\n",
       "  0.8575000166893005,\n",
       "  0.8631250262260437,\n",
       "  0.856249988079071,\n",
       "  0.8637499809265137,\n",
       "  0.8568750023841858,\n",
       "  0.8606250286102295,\n",
       "  0.8618749976158142,\n",
       "  0.8612499833106995,\n",
       "  0.8637499809265137,\n",
       "  0.8612499833106995,\n",
       "  0.8600000143051147,\n",
       "  0.8612499833106995,\n",
       "  0.8606250286102295,\n",
       "  0.8600000143051147,\n",
       "  0.859375,\n",
       "  0.8612499833106995,\n",
       "  0.859375,\n",
       "  0.8587499856948853,\n",
       "  0.8600000143051147,\n",
       "  0.8575000166893005,\n",
       "  0.859375,\n",
       "  0.859375,\n",
       "  0.8618749976158142,\n",
       "  0.8556249737739563,\n",
       "  0.8612499833106995,\n",
       "  0.8575000166893005,\n",
       "  0.8568750023841858],\n",
       " 'val_loss': [0.46703723073005676,\n",
       "  0.4380572438240051,\n",
       "  0.4295564889907837,\n",
       "  0.42184433341026306,\n",
       "  0.41529855132102966,\n",
       "  0.40834149718284607,\n",
       "  0.39686813950538635,\n",
       "  0.3869374990463257,\n",
       "  0.3781830668449402,\n",
       "  0.3732958734035492,\n",
       "  0.3686985373497009,\n",
       "  0.3657377362251282,\n",
       "  0.3657662570476532,\n",
       "  0.3637744188308716,\n",
       "  0.36466774344444275,\n",
       "  0.36272773146629333,\n",
       "  0.3624930679798126,\n",
       "  0.36295008659362793,\n",
       "  0.36183834075927734,\n",
       "  0.36075225472450256,\n",
       "  0.3614255487918854,\n",
       "  0.360881507396698,\n",
       "  0.36007100343704224,\n",
       "  0.36071741580963135,\n",
       "  0.35997673869132996,\n",
       "  0.36013150215148926,\n",
       "  0.35912278294563293,\n",
       "  0.35871270298957825,\n",
       "  0.3580154478549957,\n",
       "  0.35839447379112244,\n",
       "  0.35810795426368713,\n",
       "  0.35831889510154724,\n",
       "  0.3583039343357086,\n",
       "  0.3564734160900116,\n",
       "  0.356408029794693,\n",
       "  0.3572516143321991,\n",
       "  0.3557038903236389,\n",
       "  0.35477736592292786,\n",
       "  0.3556933104991913,\n",
       "  0.3554765284061432,\n",
       "  0.35489821434020996,\n",
       "  0.35507532954216003,\n",
       "  0.35442864894866943,\n",
       "  0.35539233684539795,\n",
       "  0.35356929898262024,\n",
       "  0.3542064428329468,\n",
       "  0.353507399559021,\n",
       "  0.3535052239894867,\n",
       "  0.3532451391220093,\n",
       "  0.35400331020355225,\n",
       "  0.3561813235282898,\n",
       "  0.35369589924812317,\n",
       "  0.355824738740921,\n",
       "  0.3531324863433838,\n",
       "  0.3541484773159027,\n",
       "  0.35292649269104004,\n",
       "  0.3529438376426697,\n",
       "  0.35275304317474365,\n",
       "  0.3548670709133148,\n",
       "  0.35379230976104736,\n",
       "  0.35334163904190063,\n",
       "  0.35380280017852783,\n",
       "  0.35196736454963684,\n",
       "  0.3524995744228363,\n",
       "  0.352009654045105,\n",
       "  0.35187339782714844,\n",
       "  0.3527836501598358,\n",
       "  0.3528248965740204,\n",
       "  0.3526735305786133,\n",
       "  0.35519468784332275,\n",
       "  0.3522031307220459,\n",
       "  0.35337093472480774,\n",
       "  0.35277628898620605,\n",
       "  0.35263121128082275,\n",
       "  0.3533931076526642,\n",
       "  0.35252708196640015,\n",
       "  0.3525639474391937,\n",
       "  0.35280129313468933,\n",
       "  0.3542170822620392,\n",
       "  0.35300835967063904,\n",
       "  0.3534512221813202,\n",
       "  0.3535482883453369,\n",
       "  0.3539780080318451,\n",
       "  0.3539314270019531,\n",
       "  0.3532261252403259,\n",
       "  0.35377633571624756,\n",
       "  0.3541736602783203,\n",
       "  0.35653290152549744,\n",
       "  0.35431602597236633,\n",
       "  0.3543267548084259,\n",
       "  0.3567996323108673,\n",
       "  0.3544329106807709,\n",
       "  0.35365161299705505,\n",
       "  0.3539072275161743,\n",
       "  0.35433274507522583,\n",
       "  0.354694128036499,\n",
       "  0.35476475954055786,\n",
       "  0.3548988401889801,\n",
       "  0.35429418087005615,\n",
       "  0.3553820550441742]}"
      ]
     },
     "execution_count": 49,
     "metadata": {},
     "output_type": "execute_result"
    }
   ],
   "source": [
    "import matplotlib.pyplot as plt\n",
    "history.history"
   ]
  },
  {
   "cell_type": "code",
   "execution_count": 37,
   "metadata": {},
   "outputs": [
    {
     "data": {
      "text/plain": [
       "[array([[-9.94205326e-02,  1.92362517e-01,  1.30341560e-01,\n",
       "          1.48078740e-01,  7.05083162e-02, -4.66937512e-01,\n",
       "          1.98719800e-01,  2.45751560e-01,  1.05674505e-01,\n",
       "          2.60991994e-02, -1.29047260e-01],\n",
       "        [-2.03682855e-01, -1.69635162e-01, -7.59792507e-01,\n",
       "          5.72291672e-01, -1.18252151e-01,  8.24785948e-01,\n",
       "         -7.77575612e-01,  7.87389755e-01,  2.83579826e-01,\n",
       "         -6.06091797e-01, -1.74198180e-01],\n",
       "        [-4.03878391e-02,  1.88815519e-02,  8.31528753e-02,\n",
       "          2.55410284e-01, -4.30337667e-01, -3.54839176e-01,\n",
       "         -5.69337942e-02,  1.96488187e-01, -1.12592140e-02,\n",
       "          2.62309164e-01, -2.07929879e-01],\n",
       "        [ 2.36165240e-01, -3.04436207e-01,  9.70967636e-02,\n",
       "         -3.29059750e-01,  3.68269712e-01, -2.63596356e-01,\n",
       "         -6.69885846e-03,  1.20704301e-01,  3.70009094e-01,\n",
       "         -3.65136653e-01,  8.56405497e-02],\n",
       "        [ 1.00611782e+00, -9.79850948e-01,  8.02806541e-02,\n",
       "          3.03103030e-01, -1.72376886e-01, -3.67400765e-01,\n",
       "          4.04171944e-01,  1.11273397e-02,  9.16483581e-01,\n",
       "         -1.95443377e-01,  5.69387078e-01],\n",
       "        [-9.73676518e-02, -2.68885922e-02, -6.06753677e-02,\n",
       "          7.08310977e-02,  1.13631808e-03, -5.20935714e-01,\n",
       "          2.61740148e-01, -5.33672981e-04, -1.55899391e-01,\n",
       "         -1.37657104e-02, -3.35550666e-01],\n",
       "        [ 1.21050782e-03, -3.90822500e-01, -4.06368583e-01,\n",
       "          6.10475898e-01, -4.33669448e-01, -3.96918394e-02,\n",
       "          7.43405640e-01,  8.80078137e-01, -7.59462237e-01,\n",
       "         -3.95403594e-01,  2.36844510e-01],\n",
       "        [-1.00465722e-01,  1.49171650e-01, -7.89542124e-03,\n",
       "          3.08552720e-02,  6.13932431e-01, -1.31501064e-01,\n",
       "          4.17746514e-01, -1.82285100e-01,  1.93065748e-01,\n",
       "          1.36821466e-02, -1.94985777e-01],\n",
       "        [-4.92221177e-01, -5.26040792e-02, -1.01073243e-01,\n",
       "         -4.37449902e-01,  3.69088292e-01,  4.26380187e-02,\n",
       "          2.95987487e-01, -2.22055823e-01, -5.91022409e-02,\n",
       "         -9.08778131e-01, -4.88385201e-01],\n",
       "        [ 7.02928379e-02,  1.76654354e-01,  4.22533713e-02,\n",
       "          6.04217350e-01, -2.69426137e-01, -5.05831718e-01,\n",
       "          1.54689610e-01,  3.93320024e-01,  9.92588047e-03,\n",
       "         -1.19115978e-01, -3.25586021e-01],\n",
       "        [ 2.59258449e-01, -1.73250169e-01, -6.79375753e-02,\n",
       "          4.70113009e-01,  5.94208121e-01, -2.07758605e-01,\n",
       "         -1.84730724e-01, -5.01303315e-01, -4.18802202e-02,\n",
       "          1.52094811e-02,  1.24649843e-03]], dtype=float32),\n",
       " array([-0.56375754,  0.4708523 ,  0.87732154,  0.46240595,  0.48549506,\n",
       "        -0.05335165,  0.45243165, -0.49485642, -0.33388484,  0.47610277,\n",
       "         0.6673657 ], dtype=float32)]"
      ]
     },
     "execution_count": 37,
     "metadata": {},
     "output_type": "execute_result"
    }
   ],
   "source": [
    "model.layers[0].get_weights()"
   ]
  },
  {
   "cell_type": "code",
   "execution_count": 38,
   "metadata": {},
   "outputs": [
    {
     "data": {
      "text/plain": [
       "[array([[-4.55997020e-01, -3.99764389e-01,  1.86178647e-02,\n",
       "          2.41104767e-01, -3.53301704e-01, -2.09084198e-01,\n",
       "          7.49463379e-01,  6.73783779e-01,  1.51142925e-01,\n",
       "          2.30456516e-01, -1.11123875e-01],\n",
       "        [ 3.51274252e-01, -7.61796951e-01, -1.39147907e-01,\n",
       "         -3.80891889e-01, -5.03806412e-01,  5.34797549e-01,\n",
       "         -7.22853184e-01, -7.88333565e-02, -1.66966712e+00,\n",
       "          6.25505447e-01,  5.56083284e-02],\n",
       "        [ 4.14654277e-02,  4.84653741e-01, -2.18895599e-01,\n",
       "          2.09974691e-01,  4.55003768e-01, -1.21943700e+00,\n",
       "         -9.54922941e-03, -5.88144302e-01,  3.62361461e-01,\n",
       "         -8.32617223e-01, -6.79203629e-01],\n",
       "        [ 1.90758482e-01,  5.83097279e-01,  2.45223939e-01,\n",
       "          3.20271015e-01,  5.80769122e-01,  6.36821985e-02,\n",
       "          5.24281740e-01,  2.15494633e-01, -6.88817576e-02,\n",
       "          5.53686082e-01,  1.79336727e-01],\n",
       "        [ 1.72596201e-01, -2.56019291e-02,  1.36978433e-01,\n",
       "         -7.45570242e-01, -8.05705488e-02,  1.89229636e-03,\n",
       "         -4.22881365e-01, -4.15596843e-01, -3.57289523e-01,\n",
       "         -4.77622986e-01,  1.14553288e-01],\n",
       "        [-3.05838615e-01,  1.44366309e-01, -6.31410420e-01,\n",
       "         -1.02057302e+00,  3.89885664e-01,  1.38626590e-01,\n",
       "         -7.83857167e-01, -4.45557423e-02, -9.41429555e-01,\n",
       "          1.38759777e-01,  4.13842648e-01],\n",
       "        [ 2.37245828e-01,  1.58456936e-01, -2.18279045e-02,\n",
       "         -8.14060867e-01,  1.97653949e-01, -1.73644707e-01,\n",
       "          4.12005559e-02,  2.20297828e-01,  3.49258810e-01,\n",
       "         -4.68342632e-01, -9.71053839e-01],\n",
       "        [-5.03247619e-01, -8.43785405e-02, -8.56621146e-01,\n",
       "         -7.53774405e-01,  3.57531965e-01, -4.58101690e-01,\n",
       "          1.20986335e-01, -2.17658028e-01,  4.60808694e-01,\n",
       "         -1.03555834e+00,  1.22575670e-01],\n",
       "        [ 8.93481134e-04,  1.91596940e-01, -4.60681856e-01,\n",
       "         -2.74171960e-02, -4.97585349e-02,  3.70489597e-01,\n",
       "          5.27515650e-01,  7.87538588e-01,  7.39568174e-01,\n",
       "          6.39153540e-01,  1.18836105e-01],\n",
       "        [ 3.87881070e-01, -2.27531329e-01,  1.73362106e-01,\n",
       "          5.86924702e-02,  6.15867794e-01, -6.90404415e-01,\n",
       "         -7.37497285e-02, -9.57970381e-01,  8.34668726e-02,\n",
       "          4.93337154e-01,  2.62329906e-01],\n",
       "        [ 6.21389329e-01, -2.80304313e-01,  6.11114860e-01,\n",
       "          6.14805758e-01,  5.88182330e-01,  1.97102390e-02,\n",
       "          1.56472057e-01,  2.63532639e-01,  5.82207739e-02,\n",
       "         -7.64356971e-01, -4.31033790e-01]], dtype=float32),\n",
       " array([ 0.32343474,  0.21675532,  0.49039075, -0.3037485 ,  0.14964655,\n",
       "         0.6681812 , -0.35718352, -0.32974863, -0.1793394 , -0.20488806,\n",
       "         0.4017749 ], dtype=float32)]"
      ]
     },
     "execution_count": 38,
     "metadata": {},
     "output_type": "execute_result"
    }
   ],
   "source": [
    "model.layers[1].get_weights()"
   ]
  },
  {
   "cell_type": "code",
   "execution_count": 39,
   "metadata": {},
   "outputs": [
    {
     "name": "stdout",
     "output_type": "stream",
     "text": [
      "\u001b[1m63/63\u001b[0m \u001b[32m━━━━━━━━━━━━━━━━━━━━\u001b[0m\u001b[37m\u001b[0m \u001b[1m0s\u001b[0m 2ms/step\n"
     ]
    }
   ],
   "source": [
    "y_log=model.predict(X_test_trf)"
   ]
  },
  {
   "cell_type": "code",
   "execution_count": 40,
   "metadata": {},
   "outputs": [],
   "source": [
    "y_pred = np.where(y_log>0.5,1,0)"
   ]
  },
  {
   "cell_type": "code",
   "execution_count": 41,
   "metadata": {},
   "outputs": [],
   "source": [
    "from sklearn.metrics import accuracy_score"
   ]
  },
  {
   "cell_type": "code",
   "execution_count": 42,
   "metadata": {},
   "outputs": [
    {
     "data": {
      "text/plain": [
       "0.862"
      ]
     },
     "execution_count": 42,
     "metadata": {},
     "output_type": "execute_result"
    }
   ],
   "source": [
    "accuracy_score(y_test, y_pred)"
   ]
  },
  {
   "cell_type": "code",
   "execution_count": 53,
   "metadata": {},
   "outputs": [
    {
     "data": {
      "text/plain": [
       "[<matplotlib.lines.Line2D at 0x16c7abb2dd0>]"
      ]
     },
     "execution_count": 53,
     "metadata": {},
     "output_type": "execute_result"
    },
    {
     "data": {
      "image/png": "[encoded data removed]",
      "text/plain": [
       "<Figure size 640x480 with 1 Axes>"
      ]
     },
     "metadata": {},
     "output_type": "display_data"
    }
   ],
   "source": [
    "plt.plot(history.history['loss'])\n",
    "plt.plot(history.history['val_loss'])"
   ]
  },
  {
   "cell_type": "code",
   "execution_count": 54,
   "metadata": {},
   "outputs": [
    {
     "data": {
      "text/plain": [
       "[<matplotlib.lines.Line2D at 0x16c7ac27810>]"
      ]
     },
     "execution_count": 54,
     "metadata": {},
     "output_type": "execute_result"
    },
    {
     "data": {
      "image/png": "[encoded data removed]",
      "text/plain": [
       "<Figure size 640x480 with 1 Axes>"
      ]
     },
     "metadata": {},
     "output_type": "display_data"
    }
   ],
   "source": [
    "plt.plot(history.history['accuracy'])\n",
    "plt.plot(history.history['val_accuracy'])"
   ]
  },
  {
   "cell_type": "code",
   "execution_count": null,
   "metadata": {},
   "outputs": [],
   "source": []
  }
 ],
 "metadata": {
  "kernelspec": {
   "display_name": ".venv",
   "language": "python",
   "name": "python3"
  },
  "language_info": {
   "codemirror_mode": {
    "name": "ipython",
    "version": 3
   },
   "file_extension": ".py",
   "mimetype": "text/x-python",
   "name": "python",
   "nbconvert_exporter": "python",
   "pygments_lexer": "ipython3",
   "version": "3.11.9"
  }
 },
 "nbformat": 4,
 "nbformat_minor": 2
}
